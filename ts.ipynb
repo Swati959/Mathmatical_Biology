{
 "cells": [
  {
   "cell_type": "code",
   "execution_count": 1,
   "id": "646dd6b3-7501-47a3-adf4-78b025884ae9",
   "metadata": {},
   "outputs": [],
   "source": [
    "import numpy as np\n",
    "import pandas as pd\n",
    "from matplotlib import pyplot\n",
    "from sklearn.ensemble import RandomForestRegressor"
   ]
  },
  {
   "cell_type": "code",
   "execution_count": 2,
   "id": "d4be8303-0d30-44d5-904d-645a033cb35c",
   "metadata": {},
   "outputs": [],
   "source": [
    "CV_limit = 0.5"
   ]
  },
  {
   "cell_type": "code",
   "execution_count": 3,
   "id": "82ee0881-594c-400e-9930-a430e4a47292",
   "metadata": {},
   "outputs": [],
   "source": [
    "enum_times = [\n",
    " '3wk',\n",
    " '4wkTC',\n",
    " '4wkAB',\n",
    " '6wkTC',\n",
    " '6wkAB',\n",
    " '8wkTC',\n",
    " '8wkAB',\n",
    " '10wkTC',\n",
    " '10wkAB']"
   ]
  },
  {
   "cell_type": "code",
   "execution_count": 4,
   "id": "18f052f0-bad6-4578-867b-c0ee4f49c8a2",
   "metadata": {},
   "outputs": [],
   "source": [
    "enum_times_TC = [\n",
    " '3wk',\n",
    " '4wkTC',\n",
    " '6wkTC',\n",
    " '8wkTC',\n",
    " '10wkTC']"
   ]
  },
  {
   "cell_type": "code",
   "execution_count": 5,
   "id": "d4b78d05-1511-432c-a559-00f41e9ba8af",
   "metadata": {},
   "outputs": [],
   "source": [
    "enum_times_AB = [\n",
    " '3wk',\n",
    " '4wkAB',\n",
    " '6wkAB',\n",
    " '8wkAB',\n",
    " '10wkAB']"
   ]
  },
  {
   "cell_type": "code",
   "execution_count": 6,
   "id": "60987f28-22c3-4aab-87b5-bafa6a8d2c56",
   "metadata": {},
   "outputs": [],
   "source": [
    "mb = pd.read_hdf(\"data/generated/biom_ts.hdf5\", \"CV\" + str(CV_limit).replace('.', ''))"
   ]
  },
  {
   "cell_type": "code",
   "execution_count": 7,
   "id": "17978573-2f46-4f12-91f9-abc23a5cbdc0",
   "metadata": {},
   "outputs": [],
   "source": [
    "label = pd.read_hdf(\"data/generated/label_ts.hd5\", \"default\")"
   ]
  },
  {
   "cell_type": "code",
   "execution_count": 8,
   "id": "db55f32f-709a-4389-8ea9-173929700b82",
   "metadata": {},
   "outputs": [
    {
     "name": "stdout",
     "output_type": "stream",
     "text": [
      "Using 135 metabolome and 62 bacteria data\n"
     ]
    }
   ],
   "source": [
    "print(\"Using {} metabolome and {} bacteria data\".format(len(mb), len(label)))"
   ]
  },
  {
   "cell_type": "code",
   "execution_count": 9,
   "id": "b32f07e1-7298-4d5d-b37f-50b09e988415",
   "metadata": {},
   "outputs": [],
   "source": [
    "mb_TC = mb.filter(enum_times_TC)\n",
    "mb_AB = mb.filter(enum_times_AB)\n",
    "label_TC = label.filter(enum_times_TC)\n",
    "label_AB = label.filter(enum_times_AB)"
   ]
  },
  {
   "cell_type": "code",
   "execution_count": 10,
   "id": "9536b0b7-a2b3-427b-a1e9-4d6beb8ff379",
   "metadata": {},
   "outputs": [],
   "source": [
    "mb_np = mb.to_numpy()[:, 1:].astype(float)\n",
    "label_np = label.to_numpy()[:, 1:].astype(float)"
   ]
  },
  {
   "cell_type": "code",
   "execution_count": 11,
   "id": "802abfbb-4e4a-4449-8e82-df52f8222c17",
   "metadata": {},
   "outputs": [],
   "source": [
    "mb_TC_np = mb_TC.to_numpy().astype(float)\n",
    "mb_AB_np = mb_AB.to_numpy().astype(float)\n",
    "label_TC_np = label_TC.to_numpy().astype(float)\n",
    "label_AB_np = label_AB.to_numpy().astype(float)"
   ]
  },
  {
   "cell_type": "code",
   "execution_count": 12,
   "id": "80fd13ea-9010-47d1-b5b4-a12762ecd024",
   "metadata": {},
   "outputs": [],
   "source": [
    "scores = []\n",
    "scores_AB = []\n",
    "scores_TC = []"
   ]
  },
  {
   "cell_type": "code",
   "execution_count": 13,
   "id": "eab39cdc-4763-4ffb-adea-5a69727002f9",
   "metadata": {},
   "outputs": [],
   "source": [
    "def fit(a):\n",
    "    if a == 'o':\n",
    "        label_np_a = label_np\n",
    "        mb_np_a = mb_np\n",
    "        scores_a = scores\n",
    "    if a == 'tc':\n",
    "        label_np_a = label_TC_np\n",
    "        mb_np_a = mb_TC_np\n",
    "        scores_a = scores_TC\n",
    "    if a == 'ab':\n",
    "        label_np_a = label_AB_np\n",
    "        mb_np_a = mb_AB_np\n",
    "        scores_a = scores_AB\n",
    "    for i in range(mb_np_a.shape[0]):\n",
    "        for j in range(label_np_a.shape[0]):\n",
    "            regressor = RandomForestRegressor(oob_score=True)\n",
    "            regressor.fit((mb_np_a[i, :]/np.linalg.norm(mb_np_a[i, :])).reshape(-1, 1), label_np_a[j, :]/np.linalg.norm(label_np_a[j, :]))\n",
    "            scores_a.append([str([i, j]), regressor.score((mb_np_a[i, :]/np.linalg.norm(mb_np_a[i, :])).reshape(-1, 1), label_np_a[j, :]/np.linalg.norm(label_np_a[j, :]))])\n",
    "        print(\" {} \".format(i), end=\"\")"
   ]
  },
  {
   "cell_type": "code",
   "execution_count": 14,
   "id": "3e785b64-e5a1-4942-a400-13540b55cee9",
   "metadata": {},
   "outputs": [],
   "source": [
    "def plot0(i, j, a):\n",
    "    if a == 'o':\n",
    "        label_np_a = label_np\n",
    "        mb_np_a = mb_np\n",
    "        enum_times_a = enum_times\n",
    "    if a == 'tc':\n",
    "        label_np_a = label_TC_np\n",
    "        mb_np_a = mb_TC_np\n",
    "        enum_times_a = enum_times_TC\n",
    "    if a == 'ab':\n",
    "        label_np_a = label_AB_np\n",
    "        mb_np_a = mb_AB_np\n",
    "        enum_times_a = enum_times_AB\n",
    "    pyplot.plot(enum_times_a, mb_np_a[i, :].astype(float)/np.linalg.norm(mb_np_a[i, :].astype(float)))\n",
    "    pyplot.plot(enum_times_a, label_np_a[j, :]/np.linalg.norm(label_np_a[j, :]))"
   ]
  },
  {
   "cell_type": "code",
   "execution_count": 15,
   "id": "d4a901dc-7b20-42a3-8657-ea3cdc91e882",
   "metadata": {},
   "outputs": [
    {
     "name": "stdout",
     "output_type": "stream",
     "text": [
      " 0  1  2  3  4  5  6  7  8  9  10  11  12  13  14  15  16  17  18  19  20  21  22  23  24  25  26  27  28  29  30  31  32  33  34  35  36  37  38  39  40  41  42  43  44  45  46  47  48  49  50  51  52  53  54  55  56  57  58  59  60  61  62  63  64  65  66  67  68  69  70  71  72  73  74  75  76  77  78  79  80  81  82  83  84  85  86  87  88  89  90  91  92  93  94  95  96  97  98  99  100  101  102  103  104  105  106  107  108  109  110  111  112  113  114  115  116  117  118  119  120  121  122  123  124  125  126  127  128  129  130  131  132  133  134 "
     ]
    }
   ],
   "source": [
    "fit('ab')"
   ]
  },
  {
   "cell_type": "code",
   "execution_count": 16,
   "id": "595b768f-38d9-4809-80de-0cb422a088b6",
   "metadata": {},
   "outputs": [],
   "source": [
    "# fit('tc')"
   ]
  },
  {
   "cell_type": "code",
   "execution_count": 17,
   "id": "87376b22-9ae3-406b-963b-41e29580314d",
   "metadata": {},
   "outputs": [],
   "source": [
    "# fit('o')"
   ]
  },
  {
   "cell_type": "code",
   "execution_count": 18,
   "id": "9ca164c9-2dc8-45bd-bd0a-8590ebf92323",
   "metadata": {},
   "outputs": [],
   "source": [
    "# scores_np = np.array(scores)\n",
    "# np.flip(scores_np[abs(scores_np[:, 1].astype(float)).argsort()])[:5]"
   ]
  },
  {
   "cell_type": "code",
   "execution_count": 19,
   "id": "b989d47b-3f68-487b-8de3-39db28643677",
   "metadata": {},
   "outputs": [
    {
     "data": {
      "text/plain": [
       "array([['0.9955324517595615', '[118, 39]'],\n",
       "       ['0.9943245970663471', '[102, 39]'],\n",
       "       ['0.9930089075026134', '[96, 14]'],\n",
       "       ['0.9919235498409035', '[120, 39]'],\n",
       "       ['0.9918844040609086', '[31, 39]']], dtype='<U32')"
      ]
     },
     "execution_count": 19,
     "metadata": {},
     "output_type": "execute_result"
    }
   ],
   "source": [
    "scores_np = np.array(scores_AB)\n",
    "np.flip(scores_np[abs(scores_np[:, 1].astype(float)).argsort()])[:5]"
   ]
  },
  {
   "cell_type": "code",
   "execution_count": 20,
   "id": "54ad65e0-8a58-4432-90fb-07cf49ab8a57",
   "metadata": {},
   "outputs": [],
   "source": [
    "scores_np = np.array(scores_AB)\n",
    "m, b = np.flip(scores_np[abs(scores_np[:, 1].astype(float)).argsort()])[0][1].replace('[',\n",
    "                                                                               '').replace(']',\n",
    "                                                                                           '').split(',')\n",
    "m, b = int(m), int(b)"
   ]
  },
  {
   "cell_type": "code",
   "execution_count": 21,
   "id": "667efd99-2739-42ac-9754-949250e101cc",
   "metadata": {},
   "outputs": [],
   "source": [
    "# scores_np = np.array(scores_TC)\n",
    "# np.flip(scores_np[abs(scores_np[:, 1].astype(float)).argsort()])[:5]"
   ]
  },
  {
   "cell_type": "code",
   "execution_count": 22,
   "id": "2cef5bcf-fbbe-44c9-97be-b0ce643c92bf",
   "metadata": {},
   "outputs": [
    {
     "data": {
      "image/png": "[encoded data removed]",
      "text/plain": [
       "<Figure size 640x480 with 1 Axes>"
      ]
     },
     "metadata": {},
     "output_type": "display_data"
    }
   ],
   "source": [
    "plot0(m, b, 'ab')"
   ]
  },
  {
   "cell_type": "code",
   "execution_count": 23,
   "id": "8111f1d7-e7e0-4e92-ac3f-12781937a287",
   "metadata": {},
   "outputs": [
    {
     "data": {
      "text/plain": [
       "Metabolites    1-Palmitoyl-2-azelaoylphosphatidylcholine\n",
       "3wk                                   14862.295966666667\n",
       "4wkTC                                 17112.819252705627\n",
       "4wkAB                                   14625.3829047619\n",
       "6wkTC                                 10307.622624999998\n",
       "6wkAB                                 10085.773944444432\n",
       "8wkTC                                   18309.7254040404\n",
       "8wkAB                                  7495.439444444445\n",
       "10wkTC                                 9554.625422222221\n",
       "10wkAB                                 8345.242250000001\n",
       "Name: 118, dtype: object"
      ]
     },
     "execution_count": 23,
     "metadata": {},
     "output_type": "execute_result"
    }
   ],
   "source": [
    "mb.iloc[m]"
   ]
  },
  {
   "cell_type": "code",
   "execution_count": 27,
   "id": "053dfc82-7253-4211-a1f0-9da69e9d527e",
   "metadata": {
    "scrolled": true
   },
   "outputs": [
    {
     "data": {
      "text/plain": [
       "index     Ruminiclostridium\n",
       "3wk                 1.02454\n",
       "4wkTC              2.145864\n",
       "4wkAB              1.002615\n",
       "6wkTC              1.556577\n",
       "6wkAB              0.572853\n",
       "8wkTC               0.97037\n",
       "8wkAB              0.490438\n",
       "10wkTC             1.083369\n",
       "10wkAB             0.530202\n",
       "Name: 326, dtype: object"
      ]
     },
     "execution_count": 27,
     "metadata": {},
     "output_type": "execute_result"
    }
   ],
   "source": [
    "label.iloc[b]"
   ]
  },
  {
   "cell_type": "code",
   "execution_count": null,
   "id": "1977f68a-0735-4e14-9e0e-04ed3f45742a",
   "metadata": {},
   "outputs": [],
   "source": []
  }
 ],
 "metadata": {
  "kernelspec": {
   "display_name": "Python 3 (ipykernel)",
   "language": "python",
   "name": "python3"
  },
  "language_info": {
   "codemirror_mode": {
    "name": "ipython",
    "version": 3
   },
   "file_extension": ".py",
   "mimetype": "text/x-python",
   "name": "python",
   "nbconvert_exporter": "python",
   "pygments_lexer": "ipython3",
   "version": "3.11.2"
  }
 },
 "nbformat": 4,
 "nbformat_minor": 5
}
