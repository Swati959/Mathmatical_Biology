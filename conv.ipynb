{
 "cells": [
  {
   "cell_type": "code",
   "execution_count": 1,
   "id": "4272cc0f-f318-40bb-9766-4f747516b9f9",
   "metadata": {},
   "outputs": [],
   "source": [
    "import numpy as np\n",
    "import pandas as pd"
   ]
  },
  {
   "cell_type": "code",
   "execution_count": 2,
   "id": "a57280e5-6604-4716-8d84-53ba8ba594e5",
   "metadata": {},
   "outputs": [],
   "source": [
    "# hostm = pd.read_excel(\"data/Host_metabolome.xlsx\", sheet_name=None)"
   ]
  },
  {
   "cell_type": "code",
   "execution_count": 3,
   "id": "098f0b7b-17b8-478f-a63c-e8b54013a200",
   "metadata": {},
   "outputs": [],
   "source": [
    "biom = pd.read_excel(\"data/meta-metabolome.xlsx\", sheet_name=None)"
   ]
  },
  {
   "cell_type": "code",
   "execution_count": 4,
   "id": "7a0aee27-073e-44de-b715-d5566de238af",
   "metadata": {},
   "outputs": [],
   "source": [
    "labels = pd.read_excel(\"data/Microbiome (1).xlsx\", sheet_name=None)"
   ]
  },
  {
   "cell_type": "code",
   "execution_count": 5,
   "id": "5ed0ad0b-12a6-4fc1-9cac-96b90ee54cd3",
   "metadata": {},
   "outputs": [],
   "source": [
    "enum_times = [i for i in biom.keys()]"
   ]
  },
  {
   "cell_type": "code",
   "execution_count": 6,
   "id": "3ef78036-f19b-47cc-8e73-c8418084abd3",
   "metadata": {},
   "outputs": [],
   "source": [
    "def indexat(t, enum_t):\n",
    "    for i, val in enumerate(enum_t):\n",
    "        if t == val:\n",
    "            return i\n",
    "    return None"
   ]
  },
  {
   "cell_type": "markdown",
   "id": "0aac60ba-76c2-4c55-b568-646d92f6dd5a",
   "metadata": {},
   "source": [
    "#### metabolome data"
   ]
  },
  {
   "cell_type": "markdown",
   "id": "7bba40b5-13f2-4ba9-a326-82ca86b4b819",
   "metadata": {},
   "source": [
    "###### stats"
   ]
  },
  {
   "cell_type": "code",
   "execution_count": 7,
   "id": "90ce5513-bae3-4f61-b036-259d74144e08",
   "metadata": {
    "editable": true,
    "slideshow": {
     "slide_type": ""
    },
    "tags": []
   },
   "outputs": [
    {
     "name": "stdout",
     "output_type": "stream",
     "text": [
      "3wk: nan values 53.160919540229884%, too wide 33.91909814323608%\n",
      "4wkTC: nan values 49.58089332874038%, too wide 26.145366861867036%\n",
      "4wkAB: nan values 43.582807333934475%, too wide 26.59052199178439%\n",
      "6wkTC: nan values 58.15899581589958%, too wide 32.75009509319133%\n",
      "6wkAB: nan values 50.84089894329513%, too wide 27.429677035273105%\n",
      "8wkTC: nan values 54.90307867730901%, too wide 35.034207525655646%\n",
      "8wkAB: nan values 44.47420634920635%, too wide 27.36111111111111%\n",
      "10wkTC: nan values 44.4593895499224%, too wide 28.20486290739783%\n",
      "10wkAB: nan values 55.44083684282027%, too wide 32.237467735362046%\n"
     ]
    }
   ],
   "source": [
    "! rm -f data/generated/san_biom.hdf5\n",
    "for t in enum_times:\n",
    "    s = len(biom[t])\n",
    "    f = 0\n",
    "    fi = 0\n",
    "    curr_mb = []\n",
    "    for i in range(s):\n",
    "        curr = []\n",
    "        for j in ['BR1', 'BR2', 'BR3']:\n",
    "            if not np.isnan(biom[t][j][i]):\n",
    "                curr.append(biom[t][j][i])\n",
    "        if len(curr) < 3: # TODO neatify validation\n",
    "            f += 1\n",
    "        cv = np.std(curr)/np.mean(curr)\n",
    "        if cv > 0.5:\n",
    "            fi += 1\n",
    "        else:\n",
    "            if len(curr) > 1:\n",
    "                curr_mb.append([biom[t]['Metabolites'][i], np.mean(curr)])\n",
    "    curr_mb_np = np.array(curr_mb)\n",
    "    curr_mb_pd = pd.DataFrame({'Metabolites': curr_mb_np[:, 0], 'value': curr_mb_np[:, 1]})\n",
    "    curr_mb_pd.to_hdf(\"data/generated/san_biom.hdf5\",  \"d\" + t)\n",
    "    print(\"{}: nan values {}%, too wide {}%\".format(t, f*100/s, fi*100/s))"
   ]
  },
  {
   "cell_type": "code",
   "execution_count": 8,
   "id": "ab578a66-70cf-454f-afe5-56de8af614a9",
   "metadata": {},
   "outputs": [],
   "source": [
    "comm_meta = None\n",
    "for t in enum_times:\n",
    "    df = pd.read_hdf(\"data/generated/san_biom.hdf5\", \"d\" + t)\n",
    "    if comm_meta is None:\n",
    "        comm_meta = set(df['Metabolites'])\n",
    "    else:\n",
    "        comm_meta = comm_meta & set(df['Metabolites'])"
   ]
  },
  {
   "cell_type": "code",
   "execution_count": 9,
   "id": "3d2cd3d7-b483-4dcb-addc-bbf6f78c930b",
   "metadata": {},
   "outputs": [],
   "source": [
    "comm_biom_ts = np.vstack([np.array(list(comm_meta)), np.zeros([len(enum_times), len(comm_meta)])])\n",
    "comm_biom_ts = comm_biom_ts.transpose()"
   ]
  },
  {
   "cell_type": "code",
   "execution_count": 10,
   "id": "5b19d531-1d4d-4417-89d0-cac3c7a78d1c",
   "metadata": {},
   "outputs": [],
   "source": [
    "for b in comm_meta:\n",
    "    for t in enum_times:\n",
    "        df = pd.read_hdf(\"data/generated/san_biom.hdf5\", \"d\" + t)\n",
    "        comm_biom_ts[np.where(comm_biom_ts[:, 0] == b)[0][0],\n",
    "        1 + indexat(t, enum_times)] = df[df['Metabolites'] == b]['value'].iloc[0]"
   ]
  },
  {
   "cell_type": "code",
   "execution_count": 21,
   "id": "72ed5b28-9152-486b-8f74-f23a79bba5b3",
   "metadata": {},
   "outputs": [],
   "source": [
    "! rm -f data/generated/biom_ts.hdf5\n",
    "comm_biom_dict = {}\n",
    "comm_biom_dict['Metabolites'] = comm_biom_ts[:, 0]\n",
    "for t in enum_times:\n",
    "    comm_biom_dict[t] = comm_biom_ts[:, 1 + indexat(t, enum_times)]\n",
    "pd.DataFrame(comm_biom_dict).to_hdf(\"data/generated/biom_ts.hdf5\", \"default\")"
   ]
  },
  {
   "cell_type": "markdown",
   "id": "982cd473-c0b9-479a-9a78-9323f0b6d70f",
   "metadata": {},
   "source": [
    "#### bacteria data"
   ]
  },
  {
   "cell_type": "markdown",
   "id": "e0d7bc95-dab0-4c39-a9d8-147de84b4962",
   "metadata": {},
   "source": [
    "###### 0 filtration"
   ]
  },
  {
   "cell_type": "code",
   "execution_count": 12,
   "id": "5a5d4542-1eee-478b-85cd-dcc1384369a3",
   "metadata": {},
   "outputs": [],
   "source": [
    "phylum = labels['Phylum'][~(labels['Phylum'] == 0.0).any(axis = 1)]\n",
    "genus = labels['Genus'][~(labels['Genus'] == 0.0).any(axis = 1)]\n",
    "labels_san = pd.concat([phylum, genus], ignore_index=True)"
   ]
  },
  {
   "cell_type": "code",
   "execution_count": 13,
   "id": "9e36c428-eabd-4e98-9e04-e839b3691a2f",
   "metadata": {},
   "outputs": [],
   "source": [
    "for t in enum_times:\n",
    "    labels_san = labels_san.iloc[np.where(np.std(labels_san[[t + '1', t + '2', t + '3']], axis=1)\n",
    "/\n",
    "np.mean(labels_san[[t + '1', t + '2', t + '3']], axis=1) < 1.5)[0]]\n",
    "labels_san = labels_san[~(labels_san['index'] == \"others\")]"
   ]
  },
  {
   "cell_type": "code",
   "execution_count": 14,
   "id": "ac6466c2-618d-4af6-a1d3-e5b1f81654eb",
   "metadata": {},
   "outputs": [],
   "source": [
    "for t in enum_times:\n",
    "    labels_san[t] = np.mean(labels_san[[t + '1', t + '2', t + '3']], axis=1)\n",
    "    labels_san.drop([t + '1', t + '2', t + '3'], axis=1, inplace=True)"
   ]
  },
  {
   "cell_type": "code",
   "execution_count": 15,
   "id": "278f2cbb-63b8-42a7-937b-2b77672e7556",
   "metadata": {},
   "outputs": [],
   "source": [
    "! rm -f data/generated/label_ts.hdf5\n",
    "labels_san.to_hdf(\"data/generated/label_ts.hd5\", \"default\")"
   ]
  },
  {
   "cell_type": "markdown",
   "id": "13e3c7a3-0289-40ba-b58e-c3645db0b9c1",
   "metadata": {},
   "source": [
    "### Old logic"
   ]
  },
  {
   "cell_type": "code",
   "execution_count": 16,
   "id": "04f5c60c-e36a-4f53-8cef-8697f08fee13",
   "metadata": {
    "editable": true,
    "slideshow": {
     "slide_type": ""
    },
    "tags": []
   },
   "outputs": [
    {
     "name": "stdout",
     "output_type": "stream",
     "text": [
      "mean nan amount for BR1: 18.213078070565878\n",
      "mean nan amount for BR2: 16.376306943138655\n",
      "mean nan amount for BR3: 15.921951250890743\n"
     ]
    }
   ],
   "source": [
    "for j in ['BR1', 'BR2', 'BR3']:\n",
    "    e = []\n",
    "    for t in enum_times:\n",
    "        s = len(biom[t])\n",
    "        f = 0\n",
    "        for i in range(s):\n",
    "            if np.isnan(biom[t][j][i]):\n",
    "                f += 1\n",
    "        e.append(f*100/s)\n",
    "    print(\"mean nan amount for {}: {}\".format(j, np.mean(e)))        "
   ]
  },
  {
   "cell_type": "markdown",
   "id": "149ad697-60d0-4893-bb02-89cd9067d97a",
   "metadata": {},
   "source": [
    "take `BR3` for now."
   ]
  },
  {
   "cell_type": "code",
   "execution_count": 17,
   "id": "2debee1d-f452-42ca-bb76-57a76420b590",
   "metadata": {},
   "outputs": [],
   "source": [
    "m3biom = biom.copy()\n",
    "for t in enum_times:\n",
    "    m3biom[t] = biom[t].copy(deep=True)\n",
    "    m3biom[t].drop(columns= ['BR1', 'BR2'], inplace=True)\n",
    "    m3biom[t].rename(columns = {'BR3':'value'}, inplace = True)\n",
    "    m3biom[t].dropna(inplace=True)"
   ]
  },
  {
   "cell_type": "markdown",
   "id": "322eede4-efc6-4667-b633-9686f98f8ee9",
   "metadata": {
    "editable": true,
    "slideshow": {
     "slide_type": ""
    },
    "tags": []
   },
   "source": [
    "\n",
    "label data\n",
    "\n",
    "assuming mutually exclusive"
   ]
  },
  {
   "cell_type": "code",
   "execution_count": 18,
   "id": "2b867ddf-c93f-4eb6-9ccf-a46505091aab",
   "metadata": {},
   "outputs": [],
   "source": [
    "m3l1 = {}\n",
    "for t in enum_times:\n",
    "    m3l1[t] = labels['Phylum'][['index', t+'3']]\n",
    "    m3l1[t] = m3l1[t][~(m3l1[t] == 0.0).any(axis=1)]"
   ]
  },
  {
   "cell_type": "code",
   "execution_count": 19,
   "id": "e29a0010-7d76-4085-ab86-23fe9b413af0",
   "metadata": {},
   "outputs": [],
   "source": [
    "m3l2 = {}\n",
    "for t in enum_times:\n",
    "    m3l2[t] = labels['Genus'][['index', t+'3']]\n",
    "    m3l2[t] = m3l2[t][~(m3l2[t] == 0.0).any(axis=1)]"
   ]
  },
  {
   "cell_type": "code",
   "execution_count": 20,
   "id": "19158d42-f2a2-4144-a8e6-3d56f09f23cf",
   "metadata": {},
   "outputs": [],
   "source": [
    "m3l = {}\n",
    "for t in enum_times:\n",
    "    m3l[t] = pd.concat([m3l1[t], m3l2[t]])\n"
   ]
  }
 ],
 "metadata": {
  "kernelspec": {
   "display_name": "Python 3 (ipykernel)",
   "language": "python",
   "name": "python3"
  },
  "language_info": {
   "codemirror_mode": {
    "name": "ipython",
    "version": 3
   },
   "file_extension": ".py",
   "mimetype": "text/x-python",
   "name": "python",
   "nbconvert_exporter": "python",
   "pygments_lexer": "ipython3",
   "version": "3.11.2"
  }
 },
 "nbformat": 4,
 "nbformat_minor": 5
}
