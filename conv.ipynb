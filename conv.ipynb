{
 "cells": [
  {
   "cell_type": "code",
   "execution_count": 1,
   "id": "4272cc0f-f318-40bb-9766-4f747516b9f9",
   "metadata": {},
   "outputs": [],
   "source": [
    "import numpy as np\n",
    "import pandas as pd"
   ]
  },
  {
   "cell_type": "code",
   "execution_count": 179,
   "id": "54568ee3-d986-402b-8470-e20cc629e3e7",
   "metadata": {},
   "outputs": [],
   "source": [
    "import seaborn"
   ]
  },
  {
   "cell_type": "code",
   "execution_count": 8,
   "id": "a57280e5-6604-4716-8d84-53ba8ba594e5",
   "metadata": {},
   "outputs": [],
   "source": [
    "hostm = pd.read_excel(\"data/Host_metabolome.xlsx\", sheet_name=None)"
   ]
  },
  {
   "cell_type": "code",
   "execution_count": 145,
   "id": "098f0b7b-17b8-478f-a63c-e8b54013a200",
   "metadata": {},
   "outputs": [],
   "source": [
    "biom = pd.read_excel(\"data/meta-metabolome.xlsx\", sheet_name=None)"
   ]
  },
  {
   "cell_type": "code",
   "execution_count": 78,
   "id": "7a0aee27-073e-44de-b715-d5566de238af",
   "metadata": {},
   "outputs": [],
   "source": [
    "labels = pd.read_excel(\"data/Microbiome (1).xlsx\", sheet_name=None)"
   ]
  },
  {
   "cell_type": "code",
   "execution_count": 56,
   "id": "5ed0ad0b-12a6-4fc1-9cac-96b90ee54cd3",
   "metadata": {},
   "outputs": [],
   "source": [
    "enum_times = [i for i in biom.keys()]"
   ]
  },
  {
   "cell_type": "markdown",
   "id": "c9292b53-037c-4774-a130-d8b3597178be",
   "metadata": {},
   "source": [
    "nature of potential data errors"
   ]
  },
  {
   "cell_type": "code",
   "execution_count": 200,
   "id": "90ce5513-bae3-4f61-b036-259d74144e08",
   "metadata": {
    "editable": true,
    "slideshow": {
     "slide_type": ""
    },
    "tags": []
   },
   "outputs": [
    {
     "name": "stdout",
     "output_type": "stream",
     "text": [
      "3wk: nan values 53.160919540229884, too wide 33.91909814323608\n",
      "4wkTC: nan values 49.58089332874038, too wide 26.145366861867036\n",
      "4wkAB: nan values 43.582807333934475, too wide 26.59052199178439\n",
      "6wkTC: nan values 58.15899581589958, too wide 32.75009509319133\n",
      "6wkAB: nan values 50.84089894329513, too wide 27.429677035273105\n",
      "8wkTC: nan values 54.90307867730901, too wide 35.034207525655646\n",
      "8wkAB: nan values 44.47420634920635, too wide 27.36111111111111\n",
      "10wkTC: nan values 44.4593895499224, too wide 28.20486290739783\n",
      "10wkAB: nan values 55.44083684282027, too wide 32.237467735362046\n"
     ]
    }
   ],
   "source": [
    "for t in enum_times:\n",
    "    s = len(biom[t])\n",
    "    f = 0\n",
    "    fi = 0\n",
    "    for i in range(s):\n",
    "        curr = []\n",
    "        for j in ['BR1', 'BR2', 'BR3']:\n",
    "            if not np.isnan(biom[t][j][i]):\n",
    "                curr.append(biom[t][j][i])\n",
    "        if len(curr) < 3:\n",
    "            f += 1\n",
    "        cv = np.std(curr)/np.mean(curr)\n",
    "        if cv > 0.5:\n",
    "            fi += 1\n",
    "    print(\"{}: nan values {}, too wide {}\".format(t, f*100/s, fi*100/s))"
   ]
  },
  {
   "cell_type": "markdown",
   "id": "4bdcf701-503d-4f6c-bb45-14b7b8918831",
   "metadata": {},
   "source": [
    "almost 50% data missing a value, with about 30% being too inconsistant."
   ]
  },
  {
   "cell_type": "code",
   "execution_count": 67,
   "id": "04f5c60c-e36a-4f53-8cef-8697f08fee13",
   "metadata": {
    "editable": true,
    "slideshow": {
     "slide_type": ""
    },
    "tags": []
   },
   "outputs": [
    {
     "name": "stdout",
     "output_type": "stream",
     "text": [
      "mean nan amount for BR1: 18.213078070565878\n",
      "mean nan amount for BR2: 16.376306943138655\n",
      "mean nan amount for BR3: 15.921951250890743\n"
     ]
    }
   ],
   "source": [
    "for j in ['BR1', 'BR2', 'BR3']:\n",
    "    e = []\n",
    "    for t in enum_times:\n",
    "        s = len(biom[t])\n",
    "        f = 0\n",
    "        for i in range(s):\n",
    "            if np.isnan(biom[t][j][i]):\n",
    "                f += 1\n",
    "        e.append(f*100/s)\n",
    "    print(\"mean nan amount for {}: {}\".format(j, np.mean(e)))\n",
    "    \n",
    "        "
   ]
  },
  {
   "cell_type": "markdown",
   "id": "149ad697-60d0-4893-bb02-89cd9067d97a",
   "metadata": {},
   "source": [
    "take `BR3` for now."
   ]
  },
  {
   "cell_type": "code",
   "execution_count": 154,
   "id": "2debee1d-f452-42ca-bb76-57a76420b590",
   "metadata": {},
   "outputs": [],
   "source": [
    "m3biom = biom.copy()\n",
    "for t in enum_times:\n",
    "    m3biom[t] = biom[t].copy(deep=True)\n",
    "    m3biom[t].drop(columns= ['BR1', 'BR2'], inplace=True)\n",
    "    m3biom[t].rename(columns = {'BR3':'value'}, inplace = True)\n",
    "    m3biom[t].dropna(inplace=True)"
   ]
  },
  {
   "cell_type": "code",
   "execution_count": 171,
   "id": "4ec7ad47-d17c-43dc-8c4e-1269af0e072e",
   "metadata": {},
   "outputs": [
    {
     "data": {
      "text/html": [
       "<div>\n",
       "<style scoped>\n",
       "    .dataframe tbody tr th:only-of-type {\n",
       "        vertical-align: middle;\n",
       "    }\n",
       "\n",
       "    .dataframe tbody tr th {\n",
       "        vertical-align: top;\n",
       "    }\n",
       "\n",
       "    .dataframe thead th {\n",
       "        text-align: right;\n",
       "    }\n",
       "</style>\n",
       "<table border=\"1\" class=\"dataframe\">\n",
       "  <thead>\n",
       "    <tr style=\"text-align: right;\">\n",
       "      <th></th>\n",
       "      <th>Metabolites</th>\n",
       "      <th>value</th>\n",
       "    </tr>\n",
       "  </thead>\n",
       "  <tbody>\n",
       "    <tr>\n",
       "      <th>3</th>\n",
       "      <td>2,6-Bis(2-benzimidazolyl)pyridine</td>\n",
       "      <td>7.023801e+03</td>\n",
       "    </tr>\n",
       "    <tr>\n",
       "      <th>4</th>\n",
       "      <td>Gly-Gly-Gly amide</td>\n",
       "      <td>8.303520e+03</td>\n",
       "    </tr>\n",
       "    <tr>\n",
       "      <th>6</th>\n",
       "      <td>2-Formyl-N-phenylhydrazinecarbothioamide</td>\n",
       "      <td>1.044986e+04</td>\n",
       "    </tr>\n",
       "    <tr>\n",
       "      <th>9</th>\n",
       "      <td>3-Chloro-5-methoxy-1-benzothiophene-2-carboxyl...</td>\n",
       "      <td>4.979506e+03</td>\n",
       "    </tr>\n",
       "    <tr>\n",
       "      <th>10</th>\n",
       "      <td>Matairesinoside</td>\n",
       "      <td>2.757464e+03</td>\n",
       "    </tr>\n",
       "    <tr>\n",
       "      <th>...</th>\n",
       "      <td>...</td>\n",
       "      <td>...</td>\n",
       "    </tr>\n",
       "    <tr>\n",
       "      <th>8703</th>\n",
       "      <td>[7-(3,4-dihydroxyphenyl)-1-(4-hydroxyphenyl)he...</td>\n",
       "      <td>5.085722e+06</td>\n",
       "    </tr>\n",
       "    <tr>\n",
       "      <th>8704</th>\n",
       "      <td>Methacholine cation</td>\n",
       "      <td>5.300421e+06</td>\n",
       "    </tr>\n",
       "    <tr>\n",
       "      <th>8705</th>\n",
       "      <td>SFRNGVGSGVKKTSFRRAKQ/4</td>\n",
       "      <td>4.433277e+04</td>\n",
       "    </tr>\n",
       "    <tr>\n",
       "      <th>8706</th>\n",
       "      <td>2-[2-Oxo-2-(3-pyridinylamino)ethyl]benzoic acid</td>\n",
       "      <td>6.062787e+06</td>\n",
       "    </tr>\n",
       "    <tr>\n",
       "      <th>8707</th>\n",
       "      <td>2-(5-(2-((2-(5-(2-((2-(5-(2-((2-(5-(2-hydroxyb...</td>\n",
       "      <td>7.117960e+06</td>\n",
       "    </tr>\n",
       "  </tbody>\n",
       "</table>\n",
       "<p>6961 rows × 2 columns</p>\n",
       "</div>"
      ],
      "text/plain": [
       "                                            Metabolites         value\n",
       "3                     2,6-Bis(2-benzimidazolyl)pyridine  7.023801e+03\n",
       "4                                     Gly-Gly-Gly amide  8.303520e+03\n",
       "6              2-Formyl-N-phenylhydrazinecarbothioamide  1.044986e+04\n",
       "9     3-Chloro-5-methoxy-1-benzothiophene-2-carboxyl...  4.979506e+03\n",
       "10                                      Matairesinoside  2.757464e+03\n",
       "...                                                 ...           ...\n",
       "8703  [7-(3,4-dihydroxyphenyl)-1-(4-hydroxyphenyl)he...  5.085722e+06\n",
       "8704                                Methacholine cation  5.300421e+06\n",
       "8705                             SFRNGVGSGVKKTSFRRAKQ/4  4.433277e+04\n",
       "8706    2-[2-Oxo-2-(3-pyridinylamino)ethyl]benzoic acid  6.062787e+06\n",
       "8707  2-(5-(2-((2-(5-(2-((2-(5-(2-((2-(5-(2-hydroxyb...  7.117960e+06\n",
       "\n",
       "[6961 rows x 2 columns]"
      ]
     },
     "execution_count": 171,
     "metadata": {},
     "output_type": "execute_result"
    }
   ],
   "source": [
    "m3biom['4wkTC']"
   ]
  },
  {
   "cell_type": "markdown",
   "id": "322eede4-efc6-4667-b633-9686f98f8ee9",
   "metadata": {
    "editable": true,
    "slideshow": {
     "slide_type": ""
    },
    "tags": []
   },
   "source": [
    "\n",
    "label data\n",
    "\n",
    "assuming mutually exclusive"
   ]
  },
  {
   "cell_type": "code",
   "execution_count": 184,
   "id": "2b867ddf-c93f-4eb6-9ccf-a46505091aab",
   "metadata": {},
   "outputs": [],
   "source": [
    "m3l1 = {}\n",
    "for t in enum_times:\n",
    "    m3l1[t] = labels['Phylum'][['index', t+'3']]\n",
    "    m3l1[t] = m3l1[t][~(m3l1[t] == 0.0).any(axis=1)]"
   ]
  },
  {
   "cell_type": "code",
   "execution_count": 185,
   "id": "85cbc8bb-c42f-4944-816d-bc817132900a",
   "metadata": {},
   "outputs": [
    {
     "data": {
      "text/html": [
       "<div>\n",
       "<style scoped>\n",
       "    .dataframe tbody tr th:only-of-type {\n",
       "        vertical-align: middle;\n",
       "    }\n",
       "\n",
       "    .dataframe tbody tr th {\n",
       "        vertical-align: top;\n",
       "    }\n",
       "\n",
       "    .dataframe thead th {\n",
       "        text-align: right;\n",
       "    }\n",
       "</style>\n",
       "<table border=\"1\" class=\"dataframe\">\n",
       "  <thead>\n",
       "    <tr style=\"text-align: right;\">\n",
       "      <th></th>\n",
       "      <th>index</th>\n",
       "      <th>4wkTC3</th>\n",
       "    </tr>\n",
       "  </thead>\n",
       "  <tbody>\n",
       "    <tr>\n",
       "      <th>5</th>\n",
       "      <td>Fusobacteria</td>\n",
       "      <td>0.056529</td>\n",
       "    </tr>\n",
       "    <tr>\n",
       "      <th>9</th>\n",
       "      <td>Deferribacteres</td>\n",
       "      <td>0.113058</td>\n",
       "    </tr>\n",
       "    <tr>\n",
       "      <th>12</th>\n",
       "      <td>Proteobacteria</td>\n",
       "      <td>1.074053</td>\n",
       "    </tr>\n",
       "    <tr>\n",
       "      <th>14</th>\n",
       "      <td>Spirochaetes</td>\n",
       "      <td>0.056529</td>\n",
       "    </tr>\n",
       "    <tr>\n",
       "      <th>16</th>\n",
       "      <td>Epsilonbacteraeota</td>\n",
       "      <td>0.282646</td>\n",
       "    </tr>\n",
       "    <tr>\n",
       "      <th>17</th>\n",
       "      <td>Verrucomicrobia</td>\n",
       "      <td>0.056529</td>\n",
       "    </tr>\n",
       "    <tr>\n",
       "      <th>18</th>\n",
       "      <td>Bacteroidetes</td>\n",
       "      <td>21.368005</td>\n",
       "    </tr>\n",
       "    <tr>\n",
       "      <th>20</th>\n",
       "      <td>Tenericutes</td>\n",
       "      <td>0.169587</td>\n",
       "    </tr>\n",
       "    <tr>\n",
       "      <th>22</th>\n",
       "      <td>Patescibacteria</td>\n",
       "      <td>0.113058</td>\n",
       "    </tr>\n",
       "    <tr>\n",
       "      <th>26</th>\n",
       "      <td>Euryarchaeota</td>\n",
       "      <td>0.113058</td>\n",
       "    </tr>\n",
       "    <tr>\n",
       "      <th>28</th>\n",
       "      <td>Actinobacteria</td>\n",
       "      <td>0.621820</td>\n",
       "    </tr>\n",
       "    <tr>\n",
       "      <th>32</th>\n",
       "      <td>Firmicutes</td>\n",
       "      <td>75.918598</td>\n",
       "    </tr>\n",
       "    <tr>\n",
       "      <th>33</th>\n",
       "      <td>Chloroflexi</td>\n",
       "      <td>0.056529</td>\n",
       "    </tr>\n",
       "    <tr>\n",
       "      <th>34</th>\n",
       "      <td>Others</td>\n",
       "      <td>0.960995</td>\n",
       "    </tr>\n",
       "  </tbody>\n",
       "</table>\n",
       "</div>"
      ],
      "text/plain": [
       "                 index     4wkTC3\n",
       "5         Fusobacteria   0.056529\n",
       "9      Deferribacteres   0.113058\n",
       "12      Proteobacteria   1.074053\n",
       "14        Spirochaetes   0.056529\n",
       "16  Epsilonbacteraeota   0.282646\n",
       "17     Verrucomicrobia   0.056529\n",
       "18       Bacteroidetes  21.368005\n",
       "20         Tenericutes   0.169587\n",
       "22     Patescibacteria   0.113058\n",
       "26       Euryarchaeota   0.113058\n",
       "28      Actinobacteria   0.621820\n",
       "32          Firmicutes  75.918598\n",
       "33         Chloroflexi   0.056529\n",
       "34              Others   0.960995"
      ]
     },
     "execution_count": 185,
     "metadata": {},
     "output_type": "execute_result"
    }
   ],
   "source": [
    "m3l1['4wkTC']"
   ]
  },
  {
   "cell_type": "code",
   "execution_count": 186,
   "id": "e29a0010-7d76-4085-ab86-23fe9b413af0",
   "metadata": {},
   "outputs": [],
   "source": [
    "m3l2 = {}\n",
    "for t in enum_times:\n",
    "    m3l2[t] = labels['Genus'][['index', t+'3']]\n",
    "    m3l2[t] = m3l2[t][~(m3l2[t] == 0.0).any(axis=1)]"
   ]
  },
  {
   "cell_type": "code",
   "execution_count": 187,
   "id": "3913d9b4-9440-4317-815b-2e8d54f534ef",
   "metadata": {},
   "outputs": [
    {
     "data": {
      "text/html": [
       "<div>\n",
       "<style scoped>\n",
       "    .dataframe tbody tr th:only-of-type {\n",
       "        vertical-align: middle;\n",
       "    }\n",
       "\n",
       "    .dataframe tbody tr th {\n",
       "        vertical-align: top;\n",
       "    }\n",
       "\n",
       "    .dataframe thead th {\n",
       "        text-align: right;\n",
       "    }\n",
       "</style>\n",
       "<table border=\"1\" class=\"dataframe\">\n",
       "  <thead>\n",
       "    <tr style=\"text-align: right;\">\n",
       "      <th></th>\n",
       "      <th>index</th>\n",
       "      <th>4wkTC3</th>\n",
       "    </tr>\n",
       "  </thead>\n",
       "  <tbody>\n",
       "    <tr>\n",
       "      <th>2</th>\n",
       "      <td>Ochrobactrum</td>\n",
       "      <td>0.090585</td>\n",
       "    </tr>\n",
       "    <tr>\n",
       "      <th>9</th>\n",
       "      <td>Peptococcus</td>\n",
       "      <td>0.181169</td>\n",
       "    </tr>\n",
       "    <tr>\n",
       "      <th>15</th>\n",
       "      <td>Lachnospiraceae-UCG-006</td>\n",
       "      <td>0.362339</td>\n",
       "    </tr>\n",
       "    <tr>\n",
       "      <th>16</th>\n",
       "      <td>Micrococcus</td>\n",
       "      <td>0.090585</td>\n",
       "    </tr>\n",
       "    <tr>\n",
       "      <th>29</th>\n",
       "      <td>Marmoricola</td>\n",
       "      <td>0.090585</td>\n",
       "    </tr>\n",
       "    <tr>\n",
       "      <th>...</th>\n",
       "      <td>...</td>\n",
       "      <td>...</td>\n",
       "    </tr>\n",
       "    <tr>\n",
       "      <th>471</th>\n",
       "      <td>Parasutterella</td>\n",
       "      <td>0.090585</td>\n",
       "    </tr>\n",
       "    <tr>\n",
       "      <th>483</th>\n",
       "      <td>Lactobacillus</td>\n",
       "      <td>0.996431</td>\n",
       "    </tr>\n",
       "    <tr>\n",
       "      <th>484</th>\n",
       "      <td>Ruminococcaceae-UCG-014</td>\n",
       "      <td>0.815262</td>\n",
       "    </tr>\n",
       "    <tr>\n",
       "      <th>486</th>\n",
       "      <td>Desulfovibrio</td>\n",
       "      <td>0.724677</td>\n",
       "    </tr>\n",
       "    <tr>\n",
       "      <th>487</th>\n",
       "      <td>Ruminococcaceae-UCG-013</td>\n",
       "      <td>0.090585</td>\n",
       "    </tr>\n",
       "  </tbody>\n",
       "</table>\n",
       "<p>67 rows × 2 columns</p>\n",
       "</div>"
      ],
      "text/plain": [
       "                       index    4wkTC3\n",
       "2               Ochrobactrum  0.090585\n",
       "9                Peptococcus  0.181169\n",
       "15   Lachnospiraceae-UCG-006  0.362339\n",
       "16               Micrococcus  0.090585\n",
       "29               Marmoricola  0.090585\n",
       "..                       ...       ...\n",
       "471           Parasutterella  0.090585\n",
       "483            Lactobacillus  0.996431\n",
       "484  Ruminococcaceae-UCG-014  0.815262\n",
       "486            Desulfovibrio  0.724677\n",
       "487  Ruminococcaceae-UCG-013  0.090585\n",
       "\n",
       "[67 rows x 2 columns]"
      ]
     },
     "execution_count": 187,
     "metadata": {},
     "output_type": "execute_result"
    }
   ],
   "source": [
    "m3l2['4wkTC']"
   ]
  },
  {
   "cell_type": "code",
   "execution_count": 195,
   "id": "19158d42-f2a2-4144-a8e6-3d56f09f23cf",
   "metadata": {},
   "outputs": [],
   "source": [
    "m3l = {}\n",
    "for t in enum_times:\n",
    "    m3l[t] = pd.concat([m3l1[t], m3l2[t]])\n"
   ]
  },
  {
   "cell_type": "code",
   "execution_count": 197,
   "id": "a2a4c6e3-6688-4a21-8a67-6bb9a39041b2",
   "metadata": {},
   "outputs": [
    {
     "data": {
      "text/html": [
       "<div>\n",
       "<style scoped>\n",
       "    .dataframe tbody tr th:only-of-type {\n",
       "        vertical-align: middle;\n",
       "    }\n",
       "\n",
       "    .dataframe tbody tr th {\n",
       "        vertical-align: top;\n",
       "    }\n",
       "\n",
       "    .dataframe thead th {\n",
       "        text-align: right;\n",
       "    }\n",
       "</style>\n",
       "<table border=\"1\" class=\"dataframe\">\n",
       "  <thead>\n",
       "    <tr style=\"text-align: right;\">\n",
       "      <th></th>\n",
       "      <th>index</th>\n",
       "      <th>4wkTC3</th>\n",
       "    </tr>\n",
       "  </thead>\n",
       "  <tbody>\n",
       "    <tr>\n",
       "      <th>5</th>\n",
       "      <td>Fusobacteria</td>\n",
       "      <td>0.056529</td>\n",
       "    </tr>\n",
       "    <tr>\n",
       "      <th>9</th>\n",
       "      <td>Deferribacteres</td>\n",
       "      <td>0.113058</td>\n",
       "    </tr>\n",
       "    <tr>\n",
       "      <th>12</th>\n",
       "      <td>Proteobacteria</td>\n",
       "      <td>1.074053</td>\n",
       "    </tr>\n",
       "    <tr>\n",
       "      <th>14</th>\n",
       "      <td>Spirochaetes</td>\n",
       "      <td>0.056529</td>\n",
       "    </tr>\n",
       "    <tr>\n",
       "      <th>16</th>\n",
       "      <td>Epsilonbacteraeota</td>\n",
       "      <td>0.282646</td>\n",
       "    </tr>\n",
       "    <tr>\n",
       "      <th>...</th>\n",
       "      <td>...</td>\n",
       "      <td>...</td>\n",
       "    </tr>\n",
       "    <tr>\n",
       "      <th>471</th>\n",
       "      <td>Parasutterella</td>\n",
       "      <td>0.090585</td>\n",
       "    </tr>\n",
       "    <tr>\n",
       "      <th>483</th>\n",
       "      <td>Lactobacillus</td>\n",
       "      <td>0.996431</td>\n",
       "    </tr>\n",
       "    <tr>\n",
       "      <th>484</th>\n",
       "      <td>Ruminococcaceae-UCG-014</td>\n",
       "      <td>0.815262</td>\n",
       "    </tr>\n",
       "    <tr>\n",
       "      <th>486</th>\n",
       "      <td>Desulfovibrio</td>\n",
       "      <td>0.724677</td>\n",
       "    </tr>\n",
       "    <tr>\n",
       "      <th>487</th>\n",
       "      <td>Ruminococcaceae-UCG-013</td>\n",
       "      <td>0.090585</td>\n",
       "    </tr>\n",
       "  </tbody>\n",
       "</table>\n",
       "<p>81 rows × 2 columns</p>\n",
       "</div>"
      ],
      "text/plain": [
       "                       index    4wkTC3\n",
       "5               Fusobacteria  0.056529\n",
       "9            Deferribacteres  0.113058\n",
       "12            Proteobacteria  1.074053\n",
       "14              Spirochaetes  0.056529\n",
       "16        Epsilonbacteraeota  0.282646\n",
       "..                       ...       ...\n",
       "471           Parasutterella  0.090585\n",
       "483            Lactobacillus  0.996431\n",
       "484  Ruminococcaceae-UCG-014  0.815262\n",
       "486            Desulfovibrio  0.724677\n",
       "487  Ruminococcaceae-UCG-013  0.090585\n",
       "\n",
       "[81 rows x 2 columns]"
      ]
     },
     "execution_count": 197,
     "metadata": {},
     "output_type": "execute_result"
    }
   ],
   "source": [
    "m3l['4wkTC']"
   ]
  },
  {
   "cell_type": "code",
   "execution_count": null,
   "id": "df8abc29-5669-4773-a967-dc127b789185",
   "metadata": {},
   "outputs": [],
   "source": []
  }
 ],
 "metadata": {
  "kernelspec": {
   "display_name": "Python 3 (ipykernel)",
   "language": "python",
   "name": "python3"
  },
  "language_info": {
   "codemirror_mode": {
    "name": "ipython",
    "version": 3
   },
   "file_extension": ".py",
   "mimetype": "text/x-python",
   "name": "python",
   "nbconvert_exporter": "python",
   "pygments_lexer": "ipython3",
   "version": "3.11.2"
  }
 },
 "nbformat": 4,
 "nbformat_minor": 5
}
