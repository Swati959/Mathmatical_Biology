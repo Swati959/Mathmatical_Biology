{
 "cells": [
  {
   "cell_type": "code",
   "execution_count": 1,
   "id": "4272cc0f-f318-40bb-9766-4f747516b9f9",
   "metadata": {},
   "outputs": [],
   "source": [
    "import numpy as np\n",
    "import pandas as pd"
   ]
  },
  {
   "cell_type": "code",
   "execution_count": 2,
   "id": "a57280e5-6604-4716-8d84-53ba8ba594e5",
   "metadata": {},
   "outputs": [],
   "source": [
    "# hostm = pd.read_excel(\"data/Host_metabolome.xlsx\", sheet_name=None)"
   ]
  },
  {
   "cell_type": "code",
   "execution_count": 3,
   "id": "098f0b7b-17b8-478f-a63c-e8b54013a200",
   "metadata": {},
   "outputs": [],
   "source": [
    "biom = pd.read_excel(\"data/meta-metabolome.xlsx\", sheet_name=None)"
   ]
  },
  {
   "cell_type": "code",
   "execution_count": 4,
   "id": "7a0aee27-073e-44de-b715-d5566de238af",
   "metadata": {},
   "outputs": [],
   "source": [
    "labels = pd.read_excel(\"data/Microbiome (1).xlsx\", sheet_name=None)"
   ]
  },
  {
   "cell_type": "code",
   "execution_count": 5,
   "id": "5ed0ad0b-12a6-4fc1-9cac-96b90ee54cd3",
   "metadata": {},
   "outputs": [],
   "source": [
    "enum_times = [i for i in biom.keys()]"
   ]
  },
  {
   "cell_type": "markdown",
   "id": "c9292b53-037c-4774-a130-d8b3597178be",
   "metadata": {},
   "source": [
    "nature of potential data errors"
   ]
  },
  {
   "cell_type": "markdown",
   "id": "7bba40b5-13f2-4ba9-a326-82ca86b4b819",
   "metadata": {},
   "source": [
    "###### stats"
   ]
  },
  {
   "cell_type": "code",
   "execution_count": 6,
   "id": "90ce5513-bae3-4f61-b036-259d74144e08",
   "metadata": {
    "editable": true,
    "slideshow": {
     "slide_type": ""
    },
    "tags": []
   },
   "outputs": [
    {
     "name": "stdout",
     "output_type": "stream",
     "text": [
      "3wk: nan values 53.160919540229884, too wide 33.91909814323608\n",
      "4wkTC: nan values 49.58089332874038, too wide 26.145366861867036\n",
      "4wkAB: nan values 43.582807333934475, too wide 26.59052199178439\n",
      "6wkTC: nan values 58.15899581589958, too wide 32.75009509319133\n",
      "6wkAB: nan values 50.84089894329513, too wide 27.429677035273105\n",
      "8wkTC: nan values 54.90307867730901, too wide 35.034207525655646\n",
      "8wkAB: nan values 44.47420634920635, too wide 27.36111111111111\n",
      "10wkTC: nan values 44.4593895499224, too wide 28.20486290739783\n",
      "10wkAB: nan values 55.44083684282027, too wide 32.237467735362046\n"
     ]
    }
   ],
   "source": [
    "for t in enum_times:\n",
    "    s = len(biom[t])\n",
    "    f = 0\n",
    "    fi = 0\n",
    "    for i in range(s):\n",
    "        curr = []\n",
    "        for j in ['BR1', 'BR2', 'BR3']:\n",
    "            if not np.isnan(biom[t][j][i]):\n",
    "                curr.append(biom[t][j][i])\n",
    "        if len(curr) < 3:\n",
    "            f += 1\n",
    "        cv = np.std(curr)/np.mean(curr)\n",
    "        if cv > 0.5:\n",
    "            fi += 1\n",
    "    print(\"{}: nan values {}, too wide {}\".format(t, f*100/s, fi*100/s))"
   ]
  },
  {
   "cell_type": "code",
   "execution_count": 7,
   "id": "04f5c60c-e36a-4f53-8cef-8697f08fee13",
   "metadata": {
    "editable": true,
    "slideshow": {
     "slide_type": ""
    },
    "tags": []
   },
   "outputs": [
    {
     "name": "stdout",
     "output_type": "stream",
     "text": [
      "mean nan amount for BR1: 18.213078070565878\n",
      "mean nan amount for BR2: 16.376306943138655\n",
      "mean nan amount for BR3: 15.921951250890743\n"
     ]
    }
   ],
   "source": [
    "for j in ['BR1', 'BR2', 'BR3']:\n",
    "    e = []\n",
    "    for t in enum_times:\n",
    "        s = len(biom[t])\n",
    "        f = 0\n",
    "        for i in range(s):\n",
    "            if np.isnan(biom[t][j][i]):\n",
    "                f += 1\n",
    "        e.append(f*100/s)\n",
    "    print(\"mean nan amount for {}: {}\".format(j, np.mean(e)))        "
   ]
  },
  {
   "cell_type": "markdown",
   "id": "149ad697-60d0-4893-bb02-89cd9067d97a",
   "metadata": {},
   "source": [
    "take `BR3` for now."
   ]
  },
  {
   "cell_type": "code",
   "execution_count": 8,
   "id": "2debee1d-f452-42ca-bb76-57a76420b590",
   "metadata": {},
   "outputs": [],
   "source": [
    "m3biom = biom.copy()\n",
    "for t in enum_times:\n",
    "    m3biom[t] = biom[t].copy(deep=True)\n",
    "    m3biom[t].drop(columns= ['BR1', 'BR2'], inplace=True)\n",
    "    m3biom[t].rename(columns = {'BR3':'value'}, inplace = True)\n",
    "    m3biom[t].dropna(inplace=True)"
   ]
  },
  {
   "cell_type": "markdown",
   "id": "322eede4-efc6-4667-b633-9686f98f8ee9",
   "metadata": {
    "editable": true,
    "slideshow": {
     "slide_type": ""
    },
    "tags": []
   },
   "source": [
    "\n",
    "label data\n",
    "\n",
    "assuming mutually exclusive"
   ]
  },
  {
   "cell_type": "code",
   "execution_count": 9,
   "id": "2b867ddf-c93f-4eb6-9ccf-a46505091aab",
   "metadata": {},
   "outputs": [],
   "source": [
    "m3l1 = {}\n",
    "for t in enum_times:\n",
    "    m3l1[t] = labels['Phylum'][['index', t+'3']]\n",
    "    m3l1[t] = m3l1[t][~(m3l1[t] == 0.0).any(axis=1)]"
   ]
  },
  {
   "cell_type": "code",
   "execution_count": 10,
   "id": "e29a0010-7d76-4085-ab86-23fe9b413af0",
   "metadata": {},
   "outputs": [],
   "source": [
    "m3l2 = {}\n",
    "for t in enum_times:\n",
    "    m3l2[t] = labels['Genus'][['index', t+'3']]\n",
    "    m3l2[t] = m3l2[t][~(m3l2[t] == 0.0).any(axis=1)]"
   ]
  },
  {
   "cell_type": "code",
   "execution_count": 11,
   "id": "19158d42-f2a2-4144-a8e6-3d56f09f23cf",
   "metadata": {},
   "outputs": [],
   "source": [
    "m3l = {}\n",
    "for t in enum_times:\n",
    "    m3l[t] = pd.concat([m3l1[t], m3l2[t]])\n"
   ]
  }
 ],
 "metadata": {
  "kernelspec": {
   "display_name": "Python 3 (ipykernel)",
   "language": "python",
   "name": "python3"
  },
  "language_info": {
   "codemirror_mode": {
    "name": "ipython",
    "version": 3
   },
   "file_extension": ".py",
   "mimetype": "text/x-python",
   "name": "python",
   "nbconvert_exporter": "python",
   "pygments_lexer": "ipython3",
   "version": "3.11.2"
  }
 },
 "nbformat": 4,
 "nbformat_minor": 5
}
